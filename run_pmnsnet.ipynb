{
 "cells": [
  {
   "cell_type": "code",
   "execution_count": 1,
   "metadata": {},
   "outputs": [],
   "source": [
    "import pmnsnet"
   ]
  },
  {
   "cell_type": "code",
   "execution_count": 3,
   "metadata": {},
   "outputs": [
    {
     "name": "stdout",
     "output_type": "stream",
     "text": [
      "[1,    10] train loss: 0.603\n",
      "[1,    20] train loss: 0.365\n",
      "[1,    30] train loss: 0.338\n",
      "[1,    40] train loss: 0.337\n",
      "[1,    50] train loss: 0.325\n",
      "[1,    60] train loss: 0.322\n",
      "[1,    70] train loss: 0.334\n",
      "[1,    80] train loss: 0.328\n",
      "[1,    90] train loss: 0.326\n",
      "[1,   100] train loss: 0.328\n",
      "[1,   110] train loss: 0.331\n",
      "[1,   120] train loss: 0.327\n",
      "[1,   130] train loss: 0.328\n",
      "[1,   140] train loss: 0.334\n",
      "[1,   150] train loss: 0.338\n",
      "[1,   160] train loss: 0.328\n",
      "[1,   170] train loss: 0.329\n",
      "[1,   180] train loss: 0.335\n",
      "[1,    10] val loss: 0.331\n",
      "Finished Training\n"
     ]
    }
   ],
   "source": [
    "net = pmnsnet.train_pmns(nepoch=1,batch_size=512)"
   ]
  },
  {
   "cell_type": "code",
   "execution_count": null,
   "metadata": {},
   "outputs": [],
   "source": []
  }
 ],
 "metadata": {
  "kernelspec": {
   "display_name": "Python 3",
   "language": "python",
   "name": "python3"
  },
  "language_info": {
   "codemirror_mode": {
    "name": "ipython",
    "version": 3
   },
   "file_extension": ".py",
   "mimetype": "text/x-python",
   "name": "python",
   "nbconvert_exporter": "python",
   "pygments_lexer": "ipython3",
   "version": "3.7.3"
  }
 },
 "nbformat": 4,
 "nbformat_minor": 2
}

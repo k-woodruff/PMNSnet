{
 "cells": [
  {
   "cell_type": "code",
   "execution_count": 1,
   "metadata": {},
   "outputs": [],
   "source": [
    "import pmnsnet\n",
    "import numpy as np\n",
    "import matplotlib.pyplot as plt"
   ]
  },
  {
   "cell_type": "code",
   "execution_count": null,
   "metadata": {},
   "outputs": [
    {
     "name": "stdout",
     "output_type": "stream",
     "text": [
      "[1,    50] train loss: 0.07290\n",
      "[1,   100] train loss: 0.06606\n",
      "[1,   150] train loss: 0.06459\n",
      "[1,    10] val loss: 0.05801\n",
      "[2,    50] train loss: 0.05608\n",
      "[2,   100] train loss: 0.04980\n",
      "[2,   150] train loss: 0.04134\n",
      "[2,    10] val loss: 0.03316\n",
      "[3,    50] train loss: 0.03200\n",
      "[3,   100] train loss: 0.02593\n",
      "[3,   150] train loss: 0.02174\n",
      "[3,    10] val loss: 0.01821\n",
      "[4,    50] train loss: 0.01836\n",
      "[4,   100] train loss: 0.01590\n",
      "[4,   150] train loss: 0.01382\n",
      "[4,    10] val loss: 0.01305\n",
      "[5,    50] train loss: 0.01177\n",
      "[5,   100] train loss: 0.01085\n",
      "[5,   150] train loss: 0.01007\n",
      "[5,    10] val loss: 0.00949\n",
      "[6,    50] train loss: 0.00961\n",
      "[6,   100] train loss: 0.00904\n",
      "[6,   150] train loss: 0.00928\n",
      "[6,    10] val loss: 0.00874\n",
      "[7,    50] train loss: 0.00862\n",
      "[7,   100] train loss: 0.00821\n",
      "[7,   150] train loss: 0.00786\n",
      "[7,    10] val loss: 0.00805\n",
      "[8,    50] train loss: 0.00772\n",
      "[8,   100] train loss: 0.00701\n",
      "[8,   150] train loss: 0.00735\n",
      "[8,    10] val loss: 0.00704\n",
      "[9,    50] train loss: 0.00651\n",
      "[9,   100] train loss: 0.00671\n",
      "[9,   150] train loss: 0.00604\n",
      "[9,    10] val loss: 0.00643\n",
      "[10,    50] train loss: 0.00581\n",
      "[10,   100] train loss: 0.00614\n",
      "[10,   150] train loss: 0.00548\n",
      "[10,    10] val loss: 0.00611\n",
      "[11,    50] train loss: 0.00568\n",
      "[11,   100] train loss: 0.00542\n",
      "[11,   150] train loss: 0.00536\n",
      "[11,    10] val loss: 0.00522\n",
      "[12,    50] train loss: 0.00545\n",
      "[12,   100] train loss: 0.00513\n"
     ]
    }
   ],
   "source": [
    "net = pmnsnet.train_pmns(nepoch=15,batch_size=512,latent_size=5)"
   ]
  },
  {
   "cell_type": "code",
   "execution_count": 3,
   "metadata": {},
   "outputs": [
    {
     "name": "stdout",
     "output_type": "stream",
     "text": [
      "[1,    50] train loss: 0.07584\n",
      "[1,   100] train loss: 0.06590\n",
      "[1,   150] train loss: 0.06454\n",
      "[1,    10] val loss: 0.06173\n",
      "[2,    50] train loss: 0.05925\n",
      "[2,   100] train loss: 0.05268\n",
      "[2,   150] train loss: 0.04535\n",
      "[2,    10] val loss: 0.03620\n",
      "[3,    50] train loss: 0.03556\n",
      "[3,   100] train loss: 0.03054\n",
      "[3,   150] train loss: 0.02649\n",
      "[3,    10] val loss: 0.02080\n",
      "[4,    50] train loss: 0.02106\n",
      "[4,   100] train loss: 0.01853\n",
      "[4,   150] train loss: 0.01626\n",
      "[4,    10] val loss: 0.01375\n",
      "[5,    50] train loss: 0.01280\n",
      "[5,   100] train loss: 0.01208\n",
      "[5,   150] train loss: 0.01110\n",
      "[5,    10] val loss: 0.01003\n",
      "[6,    50] train loss: 0.01006\n",
      "[6,   100] train loss: 0.00950\n",
      "[6,   150] train loss: 0.00911\n",
      "[6,    10] val loss: 0.00880\n",
      "[7,    50] train loss: 0.00892\n",
      "[7,   100] train loss: 0.00878\n",
      "[7,   150] train loss: 0.00840\n",
      "[7,    10] val loss: 0.00864\n",
      "[8,    50] train loss: 0.00846\n",
      "[8,   100] train loss: 0.00815\n",
      "[8,   150] train loss: 0.00800\n",
      "[8,    10] val loss: 0.00796\n",
      "[9,    50] train loss: 0.00748\n",
      "[9,   100] train loss: 0.00717\n",
      "[9,   150] train loss: 0.00694\n",
      "[9,    10] val loss: 0.00871\n",
      "[10,    50] train loss: 0.00725\n",
      "[10,   100] train loss: 0.00678\n",
      "[10,   150] train loss: 0.00677\n",
      "[10,    10] val loss: 0.00636\n",
      "[11,    50] train loss: 0.00616\n",
      "[11,   100] train loss: 0.00598\n",
      "[11,   150] train loss: 0.00628\n",
      "[11,    10] val loss: 0.00570\n",
      "[12,    50] train loss: 0.00556\n",
      "[12,   100] train loss: 0.00580\n",
      "[12,   150] train loss: 0.00560\n",
      "[12,    10] val loss: 0.00549\n",
      "[13,    50] train loss: 0.00555\n",
      "[13,   100] train loss: 0.00581\n",
      "[13,   150] train loss: 0.00534\n",
      "[13,    10] val loss: 0.00542\n",
      "[14,    50] train loss: 0.00549\n",
      "[14,   100] train loss: 0.00537\n",
      "[14,   150] train loss: 0.00534\n",
      "[14,    10] val loss: 0.00589\n",
      "[15,    50] train loss: 0.00537\n",
      "[15,   100] train loss: 0.00514\n",
      "[15,   150] train loss: 0.00528\n",
      "[15,    10] val loss: 0.00441\n",
      "Finished Training\n"
     ]
    }
   ],
   "source": [
    "net = pmnsnet.train_pmns(nepoch=15,batch_size=512,latent_size=4)"
   ]
  },
  {
   "cell_type": "code",
   "execution_count": 4,
   "metadata": {},
   "outputs": [
    {
     "name": "stdout",
     "output_type": "stream",
     "text": [
      "[1,    50] train loss: 0.07693\n",
      "[1,   100] train loss: 0.06474\n",
      "[1,   150] train loss: 0.06196\n",
      "[1,    10] val loss: 0.05656\n",
      "[2,    50] train loss: 0.05393\n",
      "[2,   100] train loss: 0.04488\n",
      "[2,   150] train loss: 0.03735\n",
      "[2,    10] val loss: 0.03196\n",
      "[3,    50] train loss: 0.02733\n",
      "[3,   100] train loss: 0.02282\n",
      "[3,   150] train loss: 0.01981\n",
      "[3,    10] val loss: 0.01846\n",
      "[4,    50] train loss: 0.01683\n",
      "[4,   100] train loss: 0.01546\n",
      "[4,   150] train loss: 0.01401\n",
      "[4,    10] val loss: 0.01253\n",
      "[5,    50] train loss: 0.01206\n",
      "[5,   100] train loss: 0.01108\n",
      "[5,   150] train loss: 0.01065\n",
      "[5,    10] val loss: 0.01016\n",
      "[6,    50] train loss: 0.00984\n",
      "[6,   100] train loss: 0.00963\n",
      "[6,   150] train loss: 0.00949\n",
      "[6,    10] val loss: 0.00949\n",
      "[7,    50] train loss: 0.00949\n",
      "[7,   100] train loss: 0.00901\n",
      "[7,   150] train loss: 0.00899\n",
      "[7,    10] val loss: 0.00913\n",
      "[8,    50] train loss: 0.00837\n",
      "[8,   100] train loss: 0.00879\n",
      "[8,   150] train loss: 0.00863\n",
      "[8,    10] val loss: 0.00890\n",
      "[9,    50] train loss: 0.00815\n",
      "[9,   100] train loss: 0.00849\n",
      "[9,   150] train loss: 0.00778\n",
      "[9,    10] val loss: 0.00783\n",
      "[10,    50] train loss: 0.00740\n",
      "[10,   100] train loss: 0.00736\n",
      "[10,   150] train loss: 0.00703\n",
      "[10,    10] val loss: 0.00666\n",
      "[11,    50] train loss: 0.00658\n",
      "[11,   100] train loss: 0.00638\n",
      "[11,   150] train loss: 0.00628\n",
      "[11,    10] val loss: 0.00616\n",
      "[12,    50] train loss: 0.00589\n",
      "[12,   100] train loss: 0.00596\n",
      "[12,   150] train loss: 0.00549\n",
      "[12,    10] val loss: 0.00595\n",
      "[13,    50] train loss: 0.00573\n",
      "[13,   100] train loss: 0.00507\n",
      "[13,   150] train loss: 0.00512\n",
      "[13,    10] val loss: 0.00527\n",
      "[14,    50] train loss: 0.00508\n",
      "[14,   100] train loss: 0.00512\n",
      "[14,   150] train loss: 0.00520\n",
      "[14,    10] val loss: 0.00464\n",
      "[15,    50] train loss: 0.00458\n",
      "[15,   100] train loss: 0.00457\n",
      "[15,   150] train loss: 0.00448\n",
      "[15,    10] val loss: 0.00442\n",
      "Finished Training\n"
     ]
    }
   ],
   "source": [
    "net = pmnsnet.train_pmns(nepoch=15,batch_size=512,latent_size=3)"
   ]
  },
  {
   "cell_type": "code",
   "execution_count": 5,
   "metadata": {},
   "outputs": [
    {
     "name": "stdout",
     "output_type": "stream",
     "text": [
      "[1,    50] train loss: 0.08578\n",
      "[1,   100] train loss: 0.06255\n",
      "[1,   150] train loss: 0.05930\n",
      "[1,    10] val loss: 0.05419\n",
      "[2,    50] train loss: 0.05062\n",
      "[2,   100] train loss: 0.04398\n",
      "[2,   150] train loss: 0.03923\n",
      "[2,    10] val loss: 0.03491\n",
      "[3,    50] train loss: 0.03269\n",
      "[3,   100] train loss: 0.02942\n",
      "[3,   150] train loss: 0.02607\n",
      "[3,    10] val loss: 0.02462\n",
      "[4,    50] train loss: 0.02357\n",
      "[4,   100] train loss: 0.02212\n",
      "[4,   150] train loss: 0.02131\n",
      "[4,    10] val loss: 0.01935\n",
      "[5,    50] train loss: 0.01930\n",
      "[5,   100] train loss: 0.01734\n",
      "[5,   150] train loss: 0.01644\n",
      "[5,    10] val loss: 0.01451\n",
      "[6,    50] train loss: 0.01349\n",
      "[6,   100] train loss: 0.01224\n",
      "[6,   150] train loss: 0.01130\n",
      "[6,    10] val loss: 0.00962\n",
      "[7,    50] train loss: 0.00987\n",
      "[7,   100] train loss: 0.00886\n",
      "[7,   150] train loss: 0.00816\n",
      "[7,    10] val loss: 0.00755\n",
      "[8,    50] train loss: 0.00727\n",
      "[8,   100] train loss: 0.00699\n",
      "[8,   150] train loss: 0.00659\n",
      "[8,    10] val loss: 0.00693\n",
      "[9,    50] train loss: 0.00631\n",
      "[9,   100] train loss: 0.00616\n",
      "[9,   150] train loss: 0.00588\n",
      "[9,    10] val loss: 0.00619\n",
      "[10,    50] train loss: 0.00566\n",
      "[10,   100] train loss: 0.00552\n",
      "[10,   150] train loss: 0.00546\n",
      "[10,    10] val loss: 0.00556\n",
      "[11,    50] train loss: 0.00563\n",
      "[11,   100] train loss: 0.00548\n",
      "[11,   150] train loss: 0.00538\n",
      "[11,    10] val loss: 0.00500\n",
      "[12,    50] train loss: 0.00509\n",
      "[12,   100] train loss: 0.00534\n",
      "[12,   150] train loss: 0.00503\n",
      "[12,    10] val loss: 0.00527\n",
      "[13,    50] train loss: 0.00502\n",
      "[13,   100] train loss: 0.00528\n",
      "[13,   150] train loss: 0.00525\n",
      "[13,    10] val loss: 0.00496\n",
      "[14,    50] train loss: 0.00496\n",
      "[14,   100] train loss: 0.00466\n",
      "[14,   150] train loss: 0.00471\n",
      "[14,    10] val loss: 0.00471\n",
      "[15,    50] train loss: 0.00458\n",
      "[15,   100] train loss: 0.00464\n",
      "[15,   150] train loss: 0.00472\n",
      "[15,    10] val loss: 0.00468\n",
      "Finished Training\n"
     ]
    }
   ],
   "source": [
    "net = pmnsnet.train_pmns(nepoch=15,batch_size=512,latent_size=2)"
   ]
  },
  {
   "cell_type": "code",
   "execution_count": 6,
   "metadata": {},
   "outputs": [
    {
     "name": "stdout",
     "output_type": "stream",
     "text": [
      "[1,    50] train loss: 0.07995\n",
      "[1,   100] train loss: 0.06221\n",
      "[1,   150] train loss: 0.05663\n",
      "[1,    10] val loss: 0.05274\n",
      "[2,    50] train loss: 0.05000\n",
      "[2,   100] train loss: 0.04492\n",
      "[2,   150] train loss: 0.03763\n",
      "[2,    10] val loss: 0.02937\n",
      "[3,    50] train loss: 0.02746\n",
      "[3,   100] train loss: 0.02307\n",
      "[3,   150] train loss: 0.01868\n",
      "[3,    10] val loss: 0.01587\n",
      "[4,    50] train loss: 0.01519\n",
      "[4,   100] train loss: 0.01337\n",
      "[4,   150] train loss: 0.01206\n",
      "[4,    10] val loss: 0.01270\n",
      "[5,    50] train loss: 0.01183\n",
      "[5,   100] train loss: 0.01127\n",
      "[5,   150] train loss: 0.01122\n",
      "[5,    10] val loss: 0.01038\n",
      "[6,    50] train loss: 0.01066\n",
      "[6,   100] train loss: 0.01011\n",
      "[6,   150] train loss: 0.01008\n",
      "[6,    10] val loss: 0.00983\n",
      "[7,    50] train loss: 0.00991\n",
      "[7,   100] train loss: 0.00961\n",
      "[7,   150] train loss: 0.00916\n",
      "[7,    10] val loss: 0.00934\n",
      "[8,    50] train loss: 0.00943\n",
      "[8,   100] train loss: 0.00952\n",
      "[8,   150] train loss: 0.00897\n",
      "[8,    10] val loss: 0.00918\n",
      "[9,    50] train loss: 0.00897\n",
      "[9,   100] train loss: 0.00899\n",
      "[9,   150] train loss: 0.00905\n",
      "[9,    10] val loss: 0.00927\n",
      "[10,    50] train loss: 0.00841\n",
      "[10,   100] train loss: 0.00826\n",
      "[10,   150] train loss: 0.00812\n",
      "[10,    10] val loss: 0.00936\n",
      "[11,    50] train loss: 0.00784\n",
      "[11,   100] train loss: 0.00796\n",
      "[11,   150] train loss: 0.00806\n",
      "[11,    10] val loss: 0.00769\n",
      "[12,    50] train loss: 0.00769\n",
      "[12,   100] train loss: 0.00767\n",
      "[12,   150] train loss: 0.00744\n",
      "[12,    10] val loss: 0.00715\n",
      "[13,    50] train loss: 0.00701\n",
      "[13,   100] train loss: 0.00725\n",
      "[13,   150] train loss: 0.00719\n",
      "[13,    10] val loss: 0.00658\n",
      "[14,    50] train loss: 0.00778\n",
      "[14,   100] train loss: 0.00694\n",
      "[14,   150] train loss: 0.00671\n",
      "[14,    10] val loss: 0.00642\n",
      "[15,    50] train loss: 0.00652\n",
      "[15,   100] train loss: 0.00662\n",
      "[15,   150] train loss: 0.00716\n",
      "[15,    10] val loss: 0.00648\n",
      "Finished Training\n"
     ]
    }
   ],
   "source": [
    "net = pmnsnet.train_pmns(nepoch=15,batch_size=512,latent_size=1)"
   ]
  },
  {
   "cell_type": "code",
   "execution_count": 7,
   "metadata": {},
   "outputs": [],
   "source": [
    "tloss_15ep = np.array([[0.00450,0.00451,0.00476],[0.00537,0.00514,0.00528],[0.00458,0.00457,0.00448],[0.00458,0.00464,0.00472],[0.00652,0.00662,0.00716]])\n",
    "vloss_15ep = np.array([0.00490,0.00441,0.00442,0.00468,0.00648])"
   ]
  },
  {
   "cell_type": "code",
   "execution_count": 10,
   "metadata": {},
   "outputs": [
    {
     "data": {
      "text/plain": [
       "Text(0, 0.5, 'MSE loss at 15 epochs')"
      ]
     },
     "execution_count": 10,
     "metadata": {},
     "output_type": "execute_result"
    },
    {
     "data": {
      "image/png": "[encoded data removed]",
      "text/plain": [
       "<Figure size 720x432 with 1 Axes>"
      ]
     },
     "metadata": {
      "needs_background": "light"
     },
     "output_type": "display_data"
    }
   ],
   "source": [
    "plt.figure(figsize=(10,6))\n",
    "\n",
    "plt.errorbar(np.arange(5), tloss_15ep.mean(axis=1), yerr=tloss_15ep.std(axis=1), fmt='o', label='Train loss')\n",
    "plt.plot(np.arange(5), vloss_15ep,'s', label='Test loss')\n",
    "\n",
    "plt.legend(loc='upper left',fontsize=16)\n",
    "\n",
    "plt.xticks(range(5),['5', '4', '3', '2', '1'])\n",
    "plt.tick_params(which='major', axis='both', labelsize=16)\n",
    "\n",
    "plt.xlabel('# latent variables', fontsize=16)\n",
    "plt.ylabel('MSE loss at 15 epochs', fontsize=16)"
   ]
  },
  {
   "cell_type": "code",
   "execution_count": null,
   "metadata": {},
   "outputs": [],
   "source": []
  }
 ],
 "metadata": {
  "kernelspec": {
   "display_name": "Python 3",
   "language": "python",
   "name": "python3"
  },
  "language_info": {
   "codemirror_mode": {
    "name": "ipython",
    "version": 3
   },
   "file_extension": ".py",
   "mimetype": "text/x-python",
   "name": "python",
   "nbconvert_exporter": "python",
   "pygments_lexer": "ipython3",
   "version": "3.7.4"
  }
 },
 "nbformat": 4,
 "nbformat_minor": 2
}
